{
 "cells": [
  {
   "cell_type": "code",
   "execution_count": 13,
   "id": "637acfd8",
   "metadata": {},
   "outputs": [
    {
     "data": {
      "image/png": "[encoded data removed]",
      "text/plain": [
       "<Figure size 360x360 with 1 Axes>"
      ]
     },
     "metadata": {
      "needs_background": "light"
     },
     "output_type": "display_data"
    }
   ],
   "source": [
    "## Initialization\n",
    "\n",
    "import pandas as pd\n",
    "import numpy as np\n",
    "import matplotlib.pyplot as plt\n",
    "%matplotlib inline\n",
    "\n",
    "df=pd.DataFrame({\n",
    "    'x':[12,20,28,18,29,33,24,45,45,52,51,52,55,53,61,64,69,72],\n",
    "    'y':[39,36,30,52,54,46,55,59,63,70,66,58,23,14,8,19,7,24]\n",
    "})\n",
    "\n",
    "\n",
    "# The seed() method is used to initialize the random number generator. \n",
    "# The random number generator needs a number to start with (a seed value), to be able to generate a random number.\n",
    "\n",
    "#np.random.seed(200)   # seed is the method used to initialize the pseudorandom number generator\n",
    "k=3                   # initially taking 3 as k for number of clusters\n",
    "\n",
    "# centroids[i] = [x,y]\n",
    "centroids={    # choosing three random points\n",
    "    i+1:[np.random.randint(0,80), np.random.randint(0,80)]   # the value of above taken numbers is till 80 max hence generating random nmbrs till 80\n",
    "    for i in range(k)\n",
    "}\n",
    "\n",
    "fig=plt.figure(figsize=(5,5))\n",
    "plt.scatter(df['x'], df['y'], color='k')   # k stands for black color\n",
    "colmap={1:'r', 2:'g', 3:'b'}\n",
    "for i in centroids.keys():\n",
    "    plt.scatter(*centroids[i], color=colmap[i])\n",
    "    \n",
    "plt.xlim(0,80)\n",
    "plt.ylim(0,80)\n",
    "plt.show()"
   ]
  },
  {
   "cell_type": "code",
   "execution_count": 14,
   "id": "5983bf13",
   "metadata": {},
   "outputs": [
    {
     "data": {
      "text/plain": [
       "KMeans(n_clusters=3)"
      ]
     },
     "execution_count": 14,
     "metadata": {},
     "output_type": "execute_result"
    }
   ],
   "source": [
    "from sklearn.cluster import KMeans\n",
    "kmeans=KMeans(n_clusters=3)\n",
    "kmeans.fit(df)"
   ]
  },
  {
   "cell_type": "code",
   "execution_count": 15,
   "id": "f2dcba73",
   "metadata": {},
   "outputs": [],
   "source": [
    "labels=kmeans.predict(df)\n",
    "cluster=kmeans.cluster_centers_"
   ]
  },
  {
   "cell_type": "code",
   "execution_count": 16,
   "id": "0dee8d93",
   "metadata": {},
   "outputs": [
    {
     "data": {
      "image/png": "[encoded data removed]",
      "text/plain": [
       "<Figure size 360x360 with 1 Axes>"
      ]
     },
     "metadata": {
      "needs_background": "light"
     },
     "output_type": "display_data"
    }
   ],
   "source": [
    "fig=plt.figure(figsize=(5,5))\n",
    "colors=map(lambda x:colmap[x+1], labels)\n",
    "colors1=list(colors)\n",
    "plt.scatter(df['x'],df['y'], alpha=0.5, edgecolor=colors1)\n",
    "\n",
    "for i in centroids.keys():\n",
    "    plt.scatter(*centroids[i], color=colmap[i])\n",
    "    \n",
    "plt.xlim(0,80)\n",
    "plt.ylim(0,80)\n",
    "plt.show()"
   ]
  },
  {
   "cell_type": "code",
   "execution_count": 17,
   "id": "aa77666d",
   "metadata": {},
   "outputs": [],
   "source": [
    "# you will the above results very confusing and absurb\n",
    "# Actually in the above graph, there is no relation between centroid and clustered points\n",
    "# The centroid are plotted randomly but the datapoints are clustered using Kmeans algorithm\n",
    "# The ML algorithm has itself calculated the euclidean distance between points and have given them colored accoringly.\n",
    "\n",
    "# Above thesis has been deduced by very talent and sincere Mr.PRAKHAR SINGH PARMAR😎"
   ]
  },
  {
   "cell_type": "code",
   "execution_count": null,
   "id": "9fd887b5",
   "metadata": {},
   "outputs": [],
   "source": []
  }
 ],
 "metadata": {
  "kernelspec": {
   "display_name": "Python 3",
   "language": "python",
   "name": "python3"
  },
  "language_info": {
   "codemirror_mode": {
    "name": "ipython",
    "version": 3
   },
   "file_extension": ".py",
   "mimetype": "text/x-python",
   "name": "python",
   "nbconvert_exporter": "python",
   "pygments_lexer": "ipython3",
   "version": "3.8.11"
  }
 },
 "nbformat": 4,
 "nbformat_minor": 5
}
