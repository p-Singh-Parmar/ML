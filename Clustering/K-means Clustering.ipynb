{
 "cells": [
  {
   "cell_type": "code",
   "execution_count": 94,
   "id": "9e60ce3e",
   "metadata": {},
   "outputs": [
    {
     "data": {
      "image/png": "[encoded data removed]",
      "text/plain": [
       "<Figure size 360x360 with 1 Axes>"
      ]
     },
     "metadata": {
      "needs_background": "light"
     },
     "output_type": "display_data"
    }
   ],
   "source": [
    "## Initialization\n",
    "\n",
    "import pandas as pd\n",
    "import numpy as np\n",
    "import matplotlib.pyplot as plt\n",
    "%matplotlib inline\n",
    "\n",
    "df=pd.DataFrame({\n",
    "    'x':[12,20,28,18,29,33,24,45,45,52,51,52,55,53,61,64,69,72],\n",
    "    'y':[39,36,30,52,54,46,55,59,63,70,66,58,23,14,8,19,7,24]\n",
    "})\n",
    "\n",
    "\n",
    "# The seed() method is used to initialize the random number generator. \n",
    "# The random number generator needs a number to start with (a seed value), to be able to generate a random number.\n",
    "\n",
    "#np.random.seed(200)   # seed is the method used to initialize the pseudorandom number generator\n",
    "k=3                   # initially taking 3 as k for number of clusters\n",
    "\n",
    "# centroids[i] = [x,y]\n",
    "centroids={    # choosing three random points\n",
    "    i+1:[np.random.randint(0,80), np.random.randint(0,80)]   # the value of above taken numbers is till 80 max hence generating random nmbrs till 80\n",
    "    for i in range(k)\n",
    "}\n",
    "\n",
    "fig=plt.figure(figsize=(5,5))\n",
    "plt.scatter(df['x'], df['y'], color='k')   # k stands for black color\n",
    "colmap={1:'r', 2:'g', 3:'b'}\n",
    "for i in centroids.keys():\n",
    "    plt.scatter(*centroids[i], color=colmap[i])\n",
    "    \n",
    "plt.xlim(0,80)\n",
    "plt.ylim(0,80)\n",
    "plt.show()"
   ]
  },
  {
   "cell_type": "code",
   "execution_count": 75,
   "id": "c9bb44a1",
   "metadata": {},
   "outputs": [
    {
     "data": {
      "text/plain": [
       "'r'"
      ]
     },
     "execution_count": 75,
     "metadata": {},
     "output_type": "execute_result"
    }
   ],
   "source": [
    "colmap[1]"
   ]
  },
  {
   "cell_type": "code",
   "execution_count": 77,
   "id": "438d6e39",
   "metadata": {},
   "outputs": [
    {
     "name": "stdout",
     "output_type": "stream",
     "text": [
      "    x   y  distance_from_1  distance_from_2  distance_from_3  closest color\n",
      "0  12  39        35.128336        36.055513        56.080300        1     r\n",
      "1  20  36        39.560081        28.017851        48.373546        2     g\n",
      "2  28  30        47.927028        21.189620        41.761226        2     g\n",
      "3  18  52        23.769729        33.541020        50.990195        1     r\n",
      "4  29  54        28.284271        25.495098        40.804412        2     g\n"
     ]
    },
    {
     "data": {
      "image/png": "[encoded data removed]",
      "text/plain": [
       "<Figure size 360x360 with 1 Axes>"
      ]
     },
     "metadata": {
      "needs_background": "light"
     },
     "output_type": "display_data"
    }
   ],
   "source": [
    "# Now we have to assign each point to one of the clusters\n",
    "def assignment(df, centroids):\n",
    "    for i in centroids.keys(): \n",
    "        # sqrt((x1 - x2)^2 - (y1-y2)^2)\n",
    "        df['distance_from_{}'.format(i)]=(np.sqrt((df['x'] - centroids[i][0])**2  + (df['y']-centroids[i][1])**2))\n",
    "        \n",
    "    centroid_distance_cols=['distance_from_{}'.format(i) for i in centroids.keys()]\n",
    "    df['closest']=df.loc[:, centroid_distance_cols].idxmin(axis=1)\n",
    "    df['closest']=df['closest'].map(lambda x: int(x.lstrip('distance_from_')))\n",
    "    df['color']=df['closest'].map(lambda x: colmap[x])\n",
    "    return df\n",
    "\n",
    "df = assignment(df, centroids)\n",
    "print(df.head())\n",
    "\n",
    "fig=plt.figure(figsize=(5,5))\n",
    "plt.scatter(df['x'], df['y'], alpha=1, edgecolor='k')\n",
    "for i in centroids.keys():\n",
    "    plt.scatter(*centroids[i], color=colmap[i])\n",
    "    \n",
    "plt.xlim(0,80)\n",
    "plt.ylim(0,80)\n",
    "plt.show()"
   ]
  },
  {
   "cell_type": "code",
   "execution_count": 31,
   "id": "5b1ee3bf",
   "metadata": {},
   "outputs": [
    {
     "ename": "TypeError",
     "evalue": "assignment() missing 2 required positional arguments: 'df' and 'centroids'",
     "output_type": "error",
     "traceback": [
      "\u001b[1;31m---------------------------------------------------------------------------\u001b[0m",
      "\u001b[1;31mTypeError\u001b[0m                                 Traceback (most recent call last)",
      "\u001b[1;32m<ipython-input-31-357b5e34dcf3>\u001b[0m in \u001b[0;36m<module>\u001b[1;34m\u001b[0m\n\u001b[1;32m----> 1\u001b[1;33m \u001b[0massignment\u001b[0m\u001b[1;33m(\u001b[0m\u001b[1;33m)\u001b[0m\u001b[1;33m\u001b[0m\u001b[1;33m\u001b[0m\u001b[0m\n\u001b[0m",
      "\u001b[1;31mTypeError\u001b[0m: assignment() missing 2 required positional arguments: 'df' and 'centroids'"
     ]
    }
   ],
   "source": [
    "assignment()"
   ]
  },
  {
   "cell_type": "code",
   "execution_count": 102,
   "id": "e79b25ad",
   "metadata": {},
   "outputs": [
    {
     "data": {
      "image/png": "[encoded data removed]",
      "text/plain": [
       "<Figure size 360x360 with 1 Axes>"
      ]
     },
     "metadata": {
      "needs_background": "light"
     },
     "output_type": "display_data"
    }
   ],
   "source": [
    "## Initialization\n",
    "\n",
    "import pandas as pd\n",
    "import numpy as np\n",
    "import matplotlib.pyplot as plt\n",
    "%matplotlib inline\n",
    "\n",
    "df=pd.DataFrame({\n",
    "    'x':[12,20,28,18,29,33,24,45,45,52,51,52,55,53,61,64,69,72],\n",
    "    'y':[39,36,30,52,54,46,55,59,63,70,66,58,23,14,8,19,7,24]\n",
    "})\n",
    "\n",
    "\n",
    "# The seed() method is used to initialize the random number generator. \n",
    "# The random number generator needs a number to start with (a seed value), to be able to generate a random number.\n",
    "\n",
    "np.random.seed(200)   # seed is the method used to initialize the pseudorandom number generator\n",
    "k=3                   # initially taking 3 as k for number of clusters\n",
    "\n",
    "# centroids[i] = [x,y]\n",
    "centroids={    # choosing three random points\n",
    "    i+1:[np.random.randint(0,80), np.random.randint(0,80)]   # the value of above taken numbers is till 80 max hence generating random nmbrs till 80\n",
    "    for i in range(k)\n",
    "}\n",
    "\n",
    "fig=plt.figure(figsize=(5,5))\n",
    "plt.scatter(df['x'], df['y'], color='k')   # k stands for black color\n",
    "colmap={1:'r', 2:'g', 3:'b'}\n",
    "for i in centroids.keys():\n",
    "    plt.scatter(*centroids[i], color=colmap[i])\n",
    "    \n",
    "plt.xlim(0,80)\n",
    "plt.ylim(0,80)\n",
    "plt.show()"
   ]
  },
  {
   "cell_type": "code",
   "execution_count": 103,
   "id": "bf68c98f",
   "metadata": {},
   "outputs": [
    {
     "data": {
      "text/plain": [
       "KMeans(n_clusters=3)"
      ]
     },
     "execution_count": 103,
     "metadata": {},
     "output_type": "execute_result"
    }
   ],
   "source": [
    "from sklearn.cluster import KMeans\n",
    "\n",
    "kmean=KMeans(n_clusters=3)\n",
    "kmean.fit(df)"
   ]
  },
  {
   "cell_type": "code",
   "execution_count": 104,
   "id": "0deeb661",
   "metadata": {},
   "outputs": [],
   "source": [
    "# next we will learn the label\n",
    "labels=kmean.predict(df)\n",
    "cluster=kmean.cluster_centers_   # plot the labels"
   ]
  },
  {
   "cell_type": "code",
   "execution_count": 107,
   "id": "722d0def",
   "metadata": {},
   "outputs": [
    {
     "data": {
      "image/png": "[encoded data removed]",
      "text/plain": [
       "<Figure size 360x360 with 1 Axes>"
      ]
     },
     "metadata": {
      "needs_background": "light"
     },
     "output_type": "display_data"
    }
   ],
   "source": [
    "fig = plt.figure(figsize=(5,5))\n",
    "colors= map(lambda x: colmap[x+1], labels)  #colmap ka reference upar se uthaya gya h   # nhi samjh aya iss line ka mtlb; shyd \n",
    "colors1=list(colors)\n",
    "plt.scatter(df['x'], df['y'], alpha=0.5, edgecolor=colors1)\n",
    "\n",
    "for idx, centroid in enumerate(centroids):\n",
    "    plt.scatter(*centroids[centroid], color=colmap[idx+1])\n",
    "plt.xlim(0,80)\n",
    "plt.ylim(0,80)\n",
    "plt.show()"
   ]
  },
  {
   "cell_type": "code",
   "execution_count": 72,
   "id": "a1f54cce",
   "metadata": {},
   "outputs": [
    {
     "data": {
      "text/plain": [
       "45"
      ]
     },
     "execution_count": 72,
     "metadata": {},
     "output_type": "execute_result"
    }
   ],
   "source": [
    "np.random.randint(0,80)"
   ]
  },
  {
   "cell_type": "code",
   "execution_count": 90,
   "id": "b5093ca6",
   "metadata": {},
   "outputs": [
    {
     "data": {
      "text/plain": [
       "['g',\n",
       " 'g',\n",
       " 'g',\n",
       " 'g',\n",
       " 'g',\n",
       " 'g',\n",
       " 'g',\n",
       " 'b',\n",
       " 'b',\n",
       " 'b',\n",
       " 'b',\n",
       " 'b',\n",
       " 'r',\n",
       " 'r',\n",
       " 'r',\n",
       " 'r',\n",
       " 'r',\n",
       " 'r']"
      ]
     },
     "execution_count": 90,
     "metadata": {},
     "output_type": "execute_result"
    }
   ],
   "source": [
    "colors1"
   ]
  },
  {
   "cell_type": "code",
   "execution_count": 91,
   "id": "fdcd8760",
   "metadata": {},
   "outputs": [
    {
     "data": {
      "text/plain": [
       "array([1, 1, 1, 1, 1, 1, 1, 2, 2, 2, 2, 2, 0, 0, 0, 0, 0, 0])"
      ]
     },
     "execution_count": 91,
     "metadata": {},
     "output_type": "execute_result"
    }
   ],
   "source": [
    "labels"
   ]
  },
  {
   "cell_type": "code",
   "execution_count": null,
   "id": "a63c4bca",
   "metadata": {},
   "outputs": [],
   "source": []
  }
 ],
 "metadata": {
  "kernelspec": {
   "display_name": "Python 3",
   "language": "python",
   "name": "python3"
  },
  "language_info": {
   "codemirror_mode": {
    "name": "ipython",
    "version": 3
   },
   "file_extension": ".py",
   "mimetype": "text/x-python",
   "name": "python",
   "nbconvert_exporter": "python",
   "pygments_lexer": "ipython3",
   "version": "3.8.11"
  }
 },
 "nbformat": 4,
 "nbformat_minor": 5
}
