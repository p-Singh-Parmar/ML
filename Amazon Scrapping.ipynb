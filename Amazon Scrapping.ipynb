{
 "cells": [
  {
   "cell_type": "code",
   "execution_count": 1,
   "id": "274549a7",
   "metadata": {},
   "outputs": [],
   "source": [
    "import csv\n",
    "from bs4 import BeautifulSoup"
   ]
  },
  {
   "cell_type": "code",
   "execution_count": 2,
   "id": "2bd5a298",
   "metadata": {},
   "outputs": [
    {
     "name": "stdout",
     "output_type": "stream",
     "text": [
      "Requirement already satisfied: selenium in c:\\users\\hp\\anaconda3\\envs\\zomato\\lib\\site-packages (3.141.0)\n",
      "Requirement already satisfied: urllib3 in c:\\users\\hp\\anaconda3\\envs\\zomato\\lib\\site-packages (from selenium) (1.26.6)\n"
     ]
    }
   ],
   "source": [
    "# for Firefox and Chrome\n",
    "!pip install selenium\n",
    "from selenium import webdriver"
   ]
  },
  {
   "cell_type": "code",
   "execution_count": 3,
   "id": "8478ad30",
   "metadata": {},
   "outputs": [],
   "source": [
    "# start up the chrome webdriver\n",
    "driver=webdriver.Chrome()"
   ]
  },
  {
   "cell_type": "code",
   "execution_count": 4,
   "id": "e700d74d",
   "metadata": {},
   "outputs": [],
   "source": [
    "url='https://www.amazon.in/'\n",
    "driver.get(url)"
   ]
  },
  {
   "cell_type": "code",
   "execution_count": 5,
   "id": "1e3e040b",
   "metadata": {},
   "outputs": [],
   "source": [
    "# when you write the search term in the search bar you get the search term embedded in the url\n",
    "# We can use this pattern to create a fucntion that will build the necessary url for our driver to retrieve\n",
    "# this will be very efficient in the long term and less likely to encounter error"
   ]
  },
  {
   "cell_type": "code",
   "execution_count": 29,
   "id": "21ae426d",
   "metadata": {},
   "outputs": [],
   "source": [
    "def get_url(search_term):\n",
    "    # Generate the url from the searched term\n",
    "    template='https://www.amazon.in/s?k={}&ref=nb_sb_noss_1'\n",
    "    search_term=search_term.replace(' ','+')\n",
    "    return template.format(search_term)"
   ]
  },
  {
   "cell_type": "code",
   "execution_count": 30,
   "id": "3bb1cf44",
   "metadata": {},
   "outputs": [
    {
     "name": "stdout",
     "output_type": "stream",
     "text": [
      "https://www.amazon.in/s?k=ultrawide+monitor&ref=nb_sb_noss_1\n"
     ]
    }
   ],
   "source": [
    "url=get_url('ultrawide monitor')\n",
    "print(url)"
   ]
  },
  {
   "cell_type": "code",
   "execution_count": 95,
   "id": "88c3e6b1",
   "metadata": {},
   "outputs": [],
   "source": [
    "driver.get(url)   # with this line, the url is searched in the browser and the given page will open"
   ]
  },
  {
   "cell_type": "markdown",
   "id": "fe7b81e5",
   "metadata": {},
   "source": [
    "## Extract the collection"
   ]
  },
  {
   "cell_type": "code",
   "execution_count": 105,
   "id": "f4590377",
   "metadata": {},
   "outputs": [],
   "source": [
    "# Creating soup object to parse the html content\n",
    "soup=BeautifulSoup(driver.page_source, 'html.parser')  # default html.parser to parse the page"
   ]
  },
  {
   "cell_type": "code",
   "execution_count": 106,
   "id": "a9e90c6c",
   "metadata": {},
   "outputs": [],
   "source": [
    "# now we have to find unique elements in our soup object"
   ]
  },
  {
   "cell_type": "code",
   "execution_count": 107,
   "id": "b5df91c5",
   "metadata": {},
   "outputs": [
    {
     "data": {
      "text/plain": [
       "bs4.BeautifulSoup"
      ]
     },
     "execution_count": 107,
     "metadata": {},
     "output_type": "execute_result"
    }
   ],
   "source": [
    "type(soup)"
   ]
  },
  {
   "cell_type": "code",
   "execution_count": 108,
   "id": "9cd53da2",
   "metadata": {},
   "outputs": [],
   "source": [
    "# Our next object is to inpect the page and find the tag that encloses any unique record\n",
    "# In this case the div tag enclose each single record"
   ]
  },
  {
   "cell_type": "code",
   "execution_count": 109,
   "id": "0c145a5c",
   "metadata": {},
   "outputs": [],
   "source": [
    "results=soup.find_all('div', {'data-component-type':'s-search-result'})   # didn't understood this one well so please refer to the actual video https://www.youtube.com/watch?v=_AeudsbKYG8"
   ]
  },
  {
   "cell_type": "code",
   "execution_count": 110,
   "id": "a06426db",
   "metadata": {},
   "outputs": [
    {
     "data": {
      "text/plain": [
       "22"
      ]
     },
     "execution_count": 110,
     "metadata": {},
     "output_type": "execute_result"
    }
   ],
   "source": [
    "len(results)  # the number in results also include the ads present in the webpage"
   ]
  },
  {
   "cell_type": "markdown",
   "id": "794b85d8",
   "metadata": {},
   "source": [
    "## Prototype the record "
   ]
  },
  {
   "cell_type": "code",
   "execution_count": 111,
   "id": "a9bbf9c7",
   "metadata": {},
   "outputs": [],
   "source": [
    "#one protype will be to get others"
   ]
  },
  {
   "cell_type": "code",
   "execution_count": 115,
   "id": "320fef85",
   "metadata": {},
   "outputs": [],
   "source": [
    "item=results[0]\n",
    "#item-> one unique searched record"
   ]
  },
  {
   "cell_type": "code",
   "execution_count": 38,
   "id": "b895bbc5",
   "metadata": {},
   "outputs": [],
   "source": [
    "# using tree navigation technique to get down that tree of tags\n",
    "atag=item.h2.a"
   ]
  },
  {
   "cell_type": "code",
   "execution_count": 39,
   "id": "61c797da",
   "metadata": {},
   "outputs": [
    {
     "data": {
      "text/plain": [
       "'Gigabyte G27F 27\" 144Hz 1080P Gaming Monitor, 1920 x 1080 IPS Display, 1ms (MPRT) Response Time, 95% DCI-P3, FreeSync Premium '"
      ]
     },
     "execution_count": 39,
     "metadata": {},
     "output_type": "execute_result"
    }
   ],
   "source": [
    "atag.text"
   ]
  },
  {
   "cell_type": "code",
   "execution_count": 40,
   "id": "fbdf158e",
   "metadata": {},
   "outputs": [],
   "source": [
    "description=atag.text.strip()  # strip() method to remove the extra space at the edges"
   ]
  },
  {
   "cell_type": "code",
   "execution_count": 41,
   "id": "0fdb8a2d",
   "metadata": {},
   "outputs": [
    {
     "data": {
      "text/plain": [
       "'Gigabyte G27F 27\" 144Hz 1080P Gaming Monitor, 1920 x 1080 IPS Display, 1ms (MPRT) Response Time, 95% DCI-P3, FreeSync Premium'"
      ]
     },
     "execution_count": 41,
     "metadata": {},
     "output_type": "execute_result"
    }
   ],
   "source": [
    "description"
   ]
  },
  {
   "cell_type": "code",
   "execution_count": 43,
   "id": "1f467e7f",
   "metadata": {},
   "outputs": [
    {
     "data": {
      "text/plain": [
       "'/gp/slredirect/picassoRedirect.html/ref=pa_sp_atf_aps_sr_pg1_1?ie=UTF8&adId=A00231513511X0MK6OS7S&url=%2FGigabyte-G27F-Monitor-Response-FreeSync%2Fdp%2FB08WHHZBF8%2Fref%3Dsr_1_1_sspa%3Fdchild%3D1%26keywords%3Dultrawide%2Bmonitor%26qid%3D1632946330%26sr%3D8-1-spons%26psc%3D1&qualifier=1632946330&id=2783049559006316&widgetName=sp_atf'"
      ]
     },
     "execution_count": 43,
     "metadata": {},
     "output_type": "execute_result"
    }
   ],
   "source": [
    "atag.get('href')  # getting the url for the atag; its not the full url"
   ]
  },
  {
   "cell_type": "code",
   "execution_count": 126,
   "id": "d9e217f2",
   "metadata": {},
   "outputs": [
    {
     "data": {
      "text/plain": [
       "'https://www.amazon.in/gp/slredirect/picassoRedirect.html/ref=pa_sp_atf_aps_sr_pg1_1?ie=UTF8&adId=A00231513511X0MK6OS7S&url=%2FGigabyte-G27F-Monitor-Response-FreeSync%2Fdp%2FB08WHHZBF8%2Fref%3Dsr_1_1_sspa%3Fdchild%3D1%26keywords%3Dultrawide%2Bmonitor%26qid%3D1632946330%26sr%3D8-1-spons%26psc%3D1&qualifier=1632946330&id=2783049559006316&widgetName=sp_atf'"
      ]
     },
     "execution_count": 126,
     "metadata": {},
     "output_type": "execute_result"
    }
   ],
   "source": [
    "url='https://www.amazon.in'+atag.get('href')\n",
    "url"
   ]
  },
  {
   "cell_type": "code",
   "execution_count": 127,
   "id": "a9a05822",
   "metadata": {},
   "outputs": [
    {
     "data": {
      "text/plain": [
       "<span class=\"a-price\" data-a-color=\"price\" data-a-size=\"l\"><span class=\"a-offscreen\">₹12,990</span><span aria-hidden=\"true\"><span class=\"a-price-symbol\">₹</span><span class=\"a-price-whole\">12,990</span></span></span>"
      ]
     },
     "execution_count": 127,
     "metadata": {},
     "output_type": "execute_result"
    }
   ],
   "source": [
    "# next item we need is price\n",
    "price_parent=item.find('span', 'a-price')\n",
    "price_parent"
   ]
  },
  {
   "cell_type": "code",
   "execution_count": 52,
   "id": "31b26305",
   "metadata": {},
   "outputs": [
    {
     "data": {
      "text/plain": [
       "'₹20,100'"
      ]
     },
     "execution_count": 52,
     "metadata": {},
     "output_type": "execute_result"
    }
   ],
   "source": [
    "price=price_parent.find('span', 'a-offscreen').text\n",
    "price"
   ]
  },
  {
   "cell_type": "code",
   "execution_count": 58,
   "id": "9b1658b4",
   "metadata": {},
   "outputs": [
    {
     "data": {
      "text/plain": [
       "'4.1 out of 5 stars'"
      ]
     },
     "execution_count": 58,
     "metadata": {},
     "output_type": "execute_result"
    }
   ],
   "source": [
    "# getting the rating\n",
    "rating=item.i.text\n",
    "rating"
   ]
  },
  {
   "cell_type": "code",
   "execution_count": 63,
   "id": "131a0bd4",
   "metadata": {},
   "outputs": [
    {
     "data": {
      "text/plain": [
       "'41'"
      ]
     },
     "execution_count": 63,
     "metadata": {},
     "output_type": "execute_result"
    }
   ],
   "source": [
    "# for getting the reviews we'll use the dir and class props.\n",
    "reviews_count=item.find('span', {'class':'a-size-base'}).text\n",
    "reviews_count"
   ]
  },
  {
   "cell_type": "markdown",
   "id": "25aba794",
   "metadata": {},
   "source": [
    "## Generalize the pattern"
   ]
  },
  {
   "cell_type": "code",
   "execution_count": 74,
   "id": "dfd257b1",
   "metadata": {},
   "outputs": [],
   "source": [
    "def extract_pattern(item):\n",
    "    # Extract and return data from a single record\n",
    "    \n",
    "    #Description and url\n",
    "    atag=item.h2.a\n",
    "    description=atag.text.strip()\n",
    "    url='https://www.amazon.in'+atag.get('href')\n",
    "\n",
    "    # Price\n",
    "    price_parent=item.find('span', 'a-price')\n",
    "    price=price_parent.find('span','a-offscreen').text\n",
    "\n",
    "    \n",
    "    # rank and rating\n",
    "    rating=item.i.text\n",
    "    reviews_count=item.find('span', {'class':'a-size-base'}).text\n",
    "    \n",
    "    # creating a tuple to store all these items\n",
    "    result=(description, price, rating, reviews_count, url)\n",
    "    return result"
   ]
  },
  {
   "cell_type": "code",
   "execution_count": 129,
   "id": "e10cc3f7",
   "metadata": {},
   "outputs": [
    {
     "data": {
      "text/plain": [
       "<div class=\"s-result-item s-asin sg-col-0-of-12 sg-col-16-of-20 AdHolder sg-col sg-col-12-of-16\" data-asin=\"B07DP7RYXV\" data-cel-widget=\"search_result_1\" data-component-id=\"54\" data-component-type=\"s-search-result\" data-index=\"1\" data-uuid=\"2110804f-914c-4f1b-bcce-11653d365184\"><div class=\"sg-col-inner\">\n",
       "<span cel_widget_id=\"MAIN-SEARCH_RESULTS-1\" class=\"celwidget slot=MAIN template=SEARCH_RESULTS widgetId=search-results_1\" data-cel-widget=\"MAIN-SEARCH_RESULTS-1\" data-csa-c-id=\"5izx2q-uv1haa-seqalx-dl4o0e\">\n",
       "<div class=\"rush-component\" data-component-id=\"55\" data-component-props='{\"percentageShownToFire\":\"50\",\"batchable\":true,\"requiredElementSelector\":\".s-image:visible\",\"url\":\"https://www.amazon.in/gp/sponsored-products/logging/log-action.html?qualifier=1633030895&amp;id=589402287456840&amp;widgetName=sp_atf&amp;adId=20077892312602&amp;eventType=1&amp;adIndex=0\"}' data-component-type=\"s-impression-logger\">\n",
       "<div class=\"rush-component\" data-component-id=\"56\" data-component-type=\"sp-sponsored-result\">\n",
       "<div class=\"s-expand-height s-include-content-margin s-latency-cf-section s-border-bottom\"><div class=\"a-section a-spacing-medium\"><div class=\"sg-row\"><div class=\"a-section a-spacing-micro s-min-height-small\"></div></div><div class=\"sg-row\"><div class=\"sg-col sg-col-4-of-12 sg-col-4-of-16 sg-col-4-of-20\"><div class=\"sg-col-inner\"><div class=\"a-section a-spacing-none\"><span class=\"rush-component\" data-component-id=\"1\" data-component-type=\"s-product-image\"><a class=\"a-link-normal s-no-outline\" href=\"/gp/slredirect/picassoRedirect.html/ref=pa_sp_atf_aps_sr_pg1_1?ie=UTF8&amp;adId=A06718522CVF4NDVF5OC0&amp;url=%2FBenQ-ScreenBar-Plus-e-Reading-Lamp%2Fdp%2FB07DP7RYXV%2Fref%3Dsr_1_1_sspa%3Fdchild%3D1%26keywords%3Dultrawide%2Bmonitor%26qid%3D1633030895%26sr%3D8-1-spons%26psc%3D1&amp;qualifier=1633030895&amp;id=589402287456840&amp;widgetName=sp_atf\" target=\"_blank\"><div class=\"a-section aok-relative s-image-fixed-height\"><img alt=\"Sponsored Ad - BenQ ScreenBar Plus e-Reading LED Computer Monitor Light Lamp with Desktop Dial, Auto-Dimming and Hue Adjus...\" class=\"s-image\" data-image-index=\"1\" data-image-latency=\"s-product-image\" data-image-load=\"\" data-image-source-density=\"1\" src=\"https://m.media-amazon.com/images/I/614takcLbQL._AC_UY218_.jpg\" srcset=\"https://m.media-amazon.com/images/I/614takcLbQL._AC_UY218_.jpg 1x, https://m.media-amazon.com/images/I/614takcLbQL._AC_UY327_FMwebp_QL65_.jpg 1.5x, https://m.media-amazon.com/images/I/614takcLbQL._AC_UY436_FMwebp_QL65_.jpg 2x, https://m.media-amazon.com/images/I/614takcLbQL._AC_UY545_FMwebp_QL65_.jpg 2.5x, https://m.media-amazon.com/images/I/614takcLbQL._AC_UY654_FMwebp_QL65_.jpg 3x\"/></div></a></span></div></div></div><div class=\"sg-col sg-col-4-of-12 sg-col-8-of-16 sg-col-12-of-20\"><div class=\"sg-col-inner\"><div class=\"a-section a-spacing-none\"><div class=\"a-section a-spacing-none\"><div class=\"a-row a-spacing-micro\"><span class=\"a-declarative\" data-a-popover='{\"closeButton\":\"true\",\"dataStrategy\":\"preload\",\"name\":\"sp-info-popover-B07DP7RYXV\",\"position\":\"triggerVertical\"}' data-action=\"a-popover\"><a aria-label=\"View Sponsored information or leave ad feedback\" class=\"s-label-popover s-sponsored-label-text\" href=\"javascript:void(0)\" role=\"button\" style=\"text-decoration: none;\"><span class=\"s-label-popover-default\"><span class=\"a-color-secondary\">Sponsored</span></span><span class=\"s-label-popover-hover\"><span class=\"a-color-base\">Sponsored</span></span> <span class=\"aok-inline-block s-sponsored-label-info-icon\"></span></a></span><div class=\"a-popover-preload\" id=\"a-popover-sp-info-popover-B07DP7RYXV\"><span>You are seeing this ad based on the product’s relevance to your search query.</span><div class=\"a-row\"><span class=\"a-declarative\" data-action=\"s-safe-ajax-modal-trigger\" data-s-safe-ajax-modal-trigger='{\"ajaxUrl\":\"/af/sp-loom/feedback-form?pl=%7B%22adPlacementMetaData%22%3A%7B%22searchTerms%22%3A%22QjAxTUc1MlgzWQ%3D%3D%22%2C%22pageType%22%3A%22Search%22%2C%22feedbackType%22%3A%22sponsoredProductsLoom%22%2C%22slotName%22%3A%22TOP%22%7D%2C%22adCreativeMetaData%22%3A%7B%22adProgramId%22%3A1024%2C%22adCreativeDetails%22%3A%5B%7B%22asin%22%3A%22B07DP7RYXV%22%2C%22title%22%3A%22BenQ+ScreenBar+Plus+e-Reading+LED+Computer+Monitor+Light+Lamp+with+Desktop+Dial%2C+Auto-Dimming+and+Hu%22%2C%22priceInfo%22%3A%7B%22amount%22%3A12990.0%2C%22currencyCode%22%3A%22INR%22%7D%2C%22sku%22%3A%22B07DP7RYXV%22%2C%22adId%22%3A%22A06718522CVF4NDVF5OC0%22%2C%22campaignId%22%3A%22A03588571VUQFBDKXS50Z%22%7D%5D%7D%7D\",\"dataStrategy\":\"ajax\",\"header\":\"Share Your Feedback\"}'><a class=\"a-link-normal\" href=\"#\"><span>Let us know</span> </a> </span></div></div></div><h2 class=\"a-size-mini a-spacing-none a-color-base s-line-clamp-2\"><a class=\"a-link-normal a-text-normal\" href=\"/gp/slredirect/picassoRedirect.html/ref=pa_sp_atf_aps_sr_pg1_1?ie=UTF8&amp;adId=A06718522CVF4NDVF5OC0&amp;url=%2FBenQ-ScreenBar-Plus-e-Reading-Lamp%2Fdp%2FB07DP7RYXV%2Fref%3Dsr_1_1_sspa%3Fdchild%3D1%26keywords%3Dultrawide%2Bmonitor%26qid%3D1633030895%26sr%3D8-1-spons%26psc%3D1&amp;qualifier=1633030895&amp;id=589402287456840&amp;widgetName=sp_atf\" target=\"_blank\"><span class=\"a-size-medium a-color-base a-text-normal\">BenQ ScreenBar Plus e-Reading LED Computer Monitor Light Lamp with Desktop Dial, Auto-Dimming and Hue Adjustment, No Screen Glare, Space Saving, USB Powered, Matte Silver</span> </a> </h2></div><div class=\"a-section a-spacing-none a-spacing-top-micro\"><div class=\"a-row a-size-small\"><span aria-label=\"4.7 out of 5 stars\"><span class=\"a-declarative\" data-a-popover='{\"closeButton\":false,\"closeButtonLabel\":\"\",\"position\":\"triggerBottom\",\"popoverLabel\":\"\",\"url\":\"/review/widgets/average-customer-review/popover/ref=acr_search__popover?ie=UTF8&amp;asin=B07DP7RYXV&amp;ref=acr_search__popover&amp;contextId=search\"}' data-action=\"a-popover\"><a class=\"a-popover-trigger a-declarative\" href=\"javascript:void(0)\" role=\"button\"><i class=\"a-icon a-icon-star-small a-star-small-4-5 aok-align-bottom\"><span class=\"a-icon-alt\">4.7 out of 5 stars</span></i><i class=\"a-icon a-icon-popover\"></i></a></span> </span><span aria-label=\"939\"><a class=\"a-link-normal\" href=\"/gp/slredirect/picassoRedirect.html/ref=pa_sp_atf_aps_sr_pg1_1?ie=UTF8&amp;adId=A06718522CVF4NDVF5OC0&amp;url=%2FBenQ-ScreenBar-Plus-e-Reading-Lamp%2Fdp%2FB07DP7RYXV%2Fref%3Dsr_1_1_sspa%3Fdchild%3D1%26keywords%3Dultrawide%2Bmonitor%26qid%3D1633030895%26sr%3D8-1-spons%26psc%3D1&amp;qualifier=1633030895&amp;id=589402287456840&amp;widgetName=sp_atf#customerReviews\" target=\"_blank\"><span class=\"a-size-base\">939</span> </a> </span></div></div><div class=\"sg-row\"><div class=\"sg-col sg-col-4-of-12 sg-col-4-of-16 sg-col-4-of-20\"><div class=\"sg-col-inner\"><div class=\"a-section a-spacing-none a-spacing-top-small\"><div class=\"a-row a-size-base a-color-base\"><a class=\"a-size-base a-link-normal a-text-normal\" href=\"/gp/slredirect/picassoRedirect.html/ref=pa_sp_atf_aps_sr_pg1_1?ie=UTF8&amp;adId=A06718522CVF4NDVF5OC0&amp;url=%2FBenQ-ScreenBar-Plus-e-Reading-Lamp%2Fdp%2FB07DP7RYXV%2Fref%3Dsr_1_1_sspa%3Fdchild%3D1%26keywords%3Dultrawide%2Bmonitor%26qid%3D1633030895%26sr%3D8-1-spons%26psc%3D1&amp;qualifier=1633030895&amp;id=589402287456840&amp;widgetName=sp_atf\" target=\"_blank\"><span class=\"a-price\" data-a-color=\"price\" data-a-size=\"l\"><span class=\"a-offscreen\">₹12,990</span><span aria-hidden=\"true\"><span class=\"a-price-symbol\">₹</span><span class=\"a-price-whole\">12,990</span></span></span> <span class=\"a-price a-text-price\" data-a-color=\"secondary\" data-a-size=\"b\" data-a-strike=\"true\"><span class=\"a-offscreen\">₹14,990</span><span aria-hidden=\"true\">₹14,990</span></span> </a> <span class=\"a-letter-space\"></span><span>Save ₹2,000 (13%)</span><span class=\"a-letter-space\"></span></div><div class=\"a-row a-size-base a-color-secondary\"><span class=\"a-color-secondary\"><span class=\"rush-component\" data-component-id=\"2\" data-component-type=\"s-truncate\"><span class=\"a-truncate\" data-a-max-rows=\"1\" data-a-overflow-marker=\"...\" data-a-recalculate=\"false\" data-a-updated=\"true\" data-a-word-break=\"normal\" style=\"line-height: 1.3em !important; max-height: 1.3em;\"><span class=\"a-truncate-full a-offscreen\">Save extra with No Cost EMI</span><span aria-hidden=\"true\" class=\"a-truncate-cut\" style=\"height: auto;\">Save extra with No Cost EMI</span></span></span></span></div></div><div class=\"a-section a-spacing-none a-spacing-top-micro\"><div class=\"a-row a-size-base a-color-secondary s-align-children-center\"><div class=\"a-row s-align-children-center\"><span class=\"aok-inline-block s-image-logo-view\"><span class=\"aok-relative s-icon-text-medium s-prime\"><i aria-label=\"Amazon Prime\" class=\"a-icon a-icon-prime a-icon-medium\" role=\"img\"></i></span><span></span></span> <span aria-label=\"Get it by Today, October 1\"><span>Get it by </span><span class=\"a-text-bold\">Today, October 1</span></span></div><div class=\"a-row\"><span aria-label=\"FREE Delivery by Amazon\"><span>FREE Delivery by Amazon</span></span></div></div></div></div></div><div class=\"sg-col sg-col-4-of-12 sg-col-4-of-16 sg-col-8-of-20\"><div class=\"sg-col-inner\"></div></div></div></div></div></div></div></div></div>\n",
       "</div>\n",
       "</div>\n",
       "</span>\n",
       "</div></div>"
      ]
     },
     "execution_count": 129,
     "metadata": {},
     "output_type": "execute_result"
    }
   ],
   "source": [
    "# Now applying this pattern to all the records on this page\n",
    "records=[]  # to store records\n",
    "results=soup.find_all('div', {'data-component-type':'s-search-result'})\n",
    "\n",
    "results[0]"
   ]
  },
  {
   "cell_type": "code",
   "execution_count": 71,
   "id": "ba908dcd",
   "metadata": {},
   "outputs": [],
   "source": [
    "# the above error is because our model seeks for all these 5 atrributes for every record on the page\n",
    "# but many of the records don't have all 5 attributes\n",
    "#Hence will do some error handling"
   ]
  },
  {
   "cell_type": "code",
   "execution_count": 75,
   "id": "cba3d8a3",
   "metadata": {},
   "outputs": [],
   "source": [
    "# If there is no price i.e., that item is not available hence no prblem\n",
    "# But if there is no rating or reviews I stilll want to see or but that product\n",
    "\n",
    "### Hence we will add error handling inside extract_pattern fucntion"
   ]
  },
  {
   "cell_type": "code",
   "execution_count": 76,
   "id": "abcb553e",
   "metadata": {},
   "outputs": [],
   "source": [
    "def extract_record(item):\n",
    "    # Extract and return data from a single record\n",
    "\n",
    "    #Description and url\n",
    "    atag=item.h2.a\n",
    "    description=atag.text.strip()\n",
    "    url='https://www.amazon.in'+atag.get('href')\n",
    "\n",
    "    try:\n",
    "        # Price\n",
    "        price_parent=item.find('span', 'a-price')\n",
    "        price=price_parent.find('span','a-offscreen').text\n",
    "    except AttributeError:\n",
    "        return   # return here means i don't care about it; let it be\n",
    "    try:\n",
    "        # rank and rating\n",
    "        rating=item.i.text\n",
    "        reviews_count=item.find('span', {'class':'a-size-base'}).text\n",
    "    except AttributeError:   # if there is an attribute error return below given values\n",
    "        rating=''            \n",
    "        reviews_count=''\n",
    "        \n",
    "    # creating a tuple to store all these items\n",
    "    result=(description, price, rating, reviews_count, url)\n",
    "        \n",
    "    return result"
   ]
  },
  {
   "cell_type": "code",
   "execution_count": 79,
   "id": "4a1d2a64",
   "metadata": {},
   "outputs": [],
   "source": [
    "# Now applying this pattern to all the records on this page\n",
    "records=[]  # to store records\n",
    "results=soup.find_all('div', {'data-component-type':'s-search-result'})\n",
    "\n",
    "for item in results:\n",
    "    record=extract_record(item)\n",
    "    if record:                 # if record has something in it\n",
    "        records.append(record)"
   ]
  },
  {
   "cell_type": "code",
   "execution_count": 85,
   "id": "4a7d9cbf",
   "metadata": {},
   "outputs": [
    {
     "data": {
      "text/plain": [
       "('Gigabyte G27F 27\" 144Hz 1080P Gaming Monitor, 1920 x 1080 IPS Display, 1ms (MPRT) Response Time, 95% DCI-P3, FreeSync Premium',\n",
       " '₹20,100',\n",
       " '4.1 out of 5 stars',\n",
       " '41',\n",
       " 'https://www.amazon.in/gp/slredirect/picassoRedirect.html/ref=pa_sp_atf_aps_sr_pg1_1?ie=UTF8&adId=A00231513511X0MK6OS7S&url=%2FGigabyte-G27F-Monitor-Response-FreeSync%2Fdp%2FB08WHHZBF8%2Fref%3Dsr_1_1_sspa%3Fdchild%3D1%26keywords%3Dultrawide%2Bmonitor%26qid%3D1632946330%26sr%3D8-1-spons%26psc%3D1&qualifier=1632946330&id=2783049559006316&widgetName=sp_atf')"
      ]
     },
     "execution_count": 85,
     "metadata": {},
     "output_type": "execute_result"
    }
   ],
   "source": [
    "records[0]"
   ]
  },
  {
   "cell_type": "code",
   "execution_count": 84,
   "id": "45345579",
   "metadata": {},
   "outputs": [
    {
     "data": {
      "text/plain": [
       "21"
      ]
     },
     "execution_count": 84,
     "metadata": {},
     "output_type": "execute_result"
    }
   ],
   "source": [
    "len(records)"
   ]
  },
  {
   "cell_type": "code",
   "execution_count": 91,
   "id": "84c03c93",
   "metadata": {},
   "outputs": [
    {
     "name": "stdout",
     "output_type": "stream",
     "text": [
      "₹20,100\n",
      "₹41,159\n",
      "₹18,899\n",
      "₹17,999\n",
      "₹29,392\n",
      "₹29,299\n",
      "₹15,119\n",
      "₹14,999\n",
      "₹53,359\n",
      "₹13,999\n",
      "₹69,999\n",
      "₹27,900\n",
      "₹49,999\n",
      "₹37,999\n",
      "₹16,683\n",
      "₹53,320\n",
      "₹19,799\n",
      "₹20,327\n",
      "₹31,990\n",
      "₹54,989\n",
      "₹11,499\n"
     ]
    }
   ],
   "source": [
    "for row in records:\n",
    "    print(row[1])"
   ]
  },
  {
   "cell_type": "code",
   "execution_count": 137,
   "id": "ca6b9ca0",
   "metadata": {},
   "outputs": [],
   "source": [
    "# URL with page number embedded\n",
    "def get_url(search_term):\n",
    "    # Generate the url from the searched term\n",
    "    template='https://www.amazon.in/s?k={}&ref=nb_sb_noss_1'\n",
    "    search_term=search_term.replace(' ','+')\n",
    "    \n",
    "    # add search term query to url\n",
    "    url=tempate.format(search_term)\n",
    "    \n",
    "    # add page query pageholder\n",
    "    url+='&page={}'\n",
    "    \n",
    "    return template.format(search_term)"
   ]
  },
  {
   "cell_type": "code",
   "execution_count": null,
   "id": "69b6d8ca",
   "metadata": {},
   "outputs": [],
   "source": []
  },
  {
   "cell_type": "markdown",
   "id": "7d4cdbf8",
   "metadata": {},
   "source": [
    "## Now putting it all together"
   ]
  },
  {
   "cell_type": "code",
   "execution_count": 130,
   "id": "0f8de99f",
   "metadata": {},
   "outputs": [],
   "source": [
    "import csv \n",
    "from bs4 import BeautifulSoup\n",
    "from selenium import webdriver\n",
    "\n",
    "# url with page number embedded\n",
    "def get_url(search_term):\n",
    "    # Generate the url from the searched term\n",
    "    template='https://www.amazon.in/s?k={}&ref=nb_sb_noss_1'\n",
    "    search_term=search_term.replace(' ','+')\n",
    "    \n",
    "    # add search term query to url\n",
    "    url=template.format(search_term)\n",
    "    \n",
    "    # add page query pageholder\n",
    "    url+='&page{}'\n",
    "    \n",
    "    return url\n",
    "\n",
    "def extract_record(item):\n",
    "    # Extract and return data from a single record\n",
    "    \n",
    "    #Description and url\n",
    "    atag=item.h2.a     # for moving down the tag tree to the href which contains url\n",
    "    description=atag.text.strip()    # removing spaces at edges\n",
    "    url='https://www.amazon.in'+atag.get('href')\n",
    "    \n",
    "    try:    \n",
    "        # Price\n",
    "        price_parent = item.find('span', 'a-price')\n",
    "        price = price_parent.find('span','a-offscreen').text\n",
    "    except AttributeError:\n",
    "        return   # return here means if i don't get the price whole record is skipped\n",
    "    \n",
    "    try:\n",
    "        # rank and rating\n",
    "        rating=item.i.text\n",
    "        reviews_count=item.find('span', {'class':'a-size-base'}).text\n",
    "    except AttributeError:   # if there is an attribute error return below given values\n",
    "        rating=''            \n",
    "        reviews_count=''\n",
    "        \n",
    "    # creating a tuple to store all these items\n",
    "    result=(description, price, rating, reviews_count, url)\n",
    "        \n",
    "    return result\n",
    "\n",
    "# this main function is going to give the instructions that we want\n",
    "def main(search_term):  # accepting argument of the search term; then going to run the search term and \n",
    "    \n",
    "    # startup the webdriver\n",
    "    driver=webdriver.Chrome()\n",
    "    \n",
    "    record=[]\n",
    "    url=get_url(search_term)     # getting the url using the search term\n",
    "    \n",
    "    #  now going to iterate through 20 pages\n",
    "    for page in range(1,21):\n",
    "        # opening the webpage via url\n",
    "        driver.get(url.format(page))    # opening the specified page\n",
    "        soup=BeautifulSoup(driver.page_source, 'html.parser')   # soup object to parse the html code  \n",
    "        results=soup.find_all('div', {'data-component-type':'s-search-result'})  # getting all the html content on the page\n",
    "        \n",
    "        # then for each of the results, gonna extract the results data and append it to our record list\n",
    "        for item in results:\n",
    "            record=extract_record(item)\n",
    "            if record:\n",
    "                records.append(record)\n",
    "        \n",
    "    driver.close()   # closing the driver\n",
    "    \n",
    "    # save data to our csv file\n",
    "    with open('amazon.csv','w', newline='', encoding='utf-8') as f:    #unable to understand newline; encoding is the name of the encoding used to encode/decode the text\n",
    "        writer=csv.writer(f)   # This function in csv module returns a writer object that converts data into a delimited string and stores in a file object.\n",
    "        writer.writerow(['description', 'price', 'rating', 'reviewCount', 'url'])  #This function writes items in an iterable (list, tuple or string) ,separating them nby comma character.\n",
    "        writer.writerows(records)  #This function takes a list of iterables as parameter and writes each item as a comma separated line of items in the file.\n",
    "    "
   ]
  },
  {
   "cell_type": "code",
   "execution_count": 131,
   "id": "b221e569",
   "metadata": {},
   "outputs": [],
   "source": [
    "main('ultrawide monitor')"
   ]
  }
 ],
 "metadata": {
  "kernelspec": {
   "display_name": "Python 3",
   "language": "python",
   "name": "python3"
  },
  "language_info": {
   "codemirror_mode": {
    "name": "ipython",
    "version": 3
   },
   "file_extension": ".py",
   "mimetype": "text/x-python",
   "name": "python",
   "nbconvert_exporter": "python",
   "pygments_lexer": "ipython3",
   "version": "3.8.11"
  }
 },
 "nbformat": 4,
 "nbformat_minor": 5
}
